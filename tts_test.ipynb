{
 "cells": [
  {
   "cell_type": "code",
   "execution_count": 60,
   "metadata": {},
   "outputs": [
    {
     "name": "stdout",
     "output_type": "stream",
     "text": [
      "Please speak now...\n",
      "Processing...\n"
     ]
    }
   ],
   "source": [
    "import speech_recognition as sr\n",
    "import os\n",
    "from playsound import playsound\n",
    "import time\n",
    "import openai\n",
    "import weaviate\n",
    "import json\n",
    "import requests\n",
    "import pyttsx3\n",
    "\n",
    "os.environ['TF_CPP_MIN_LOG_LEVEL'] = '0'\n",
    "\n",
    "api_key = os.environ.get('OPENAI_APIKEY')\n",
    "openai.api_key = api_key\n",
    "\n",
    "GPT_MODEL = \"gpt-3.5-turbo-0613\"\n",
    "\n",
    "weaviate_client_url = \"http://localhost:8080\"\n",
    "\n",
    "client = weaviate.Client(\n",
    "    url=weaviate_client_url, \n",
    "    additional_headers={\n",
    "        \"X-OpenAI-Api-Key\": api_key\n",
    "    }\n",
    ")\n",
    "\n",
    "tester_engine = pyttsx3.init()\n",
    "tester_engine.setProperty('rate', 175)\n",
    "tester_engine.setProperty('voice', tester_engine.getProperty('voices')[1].id)\n",
    "\n",
    "# Create a recognizer object\n",
    "r = sr.Recognizer()\n",
    "\n",
    "# Prompt the user to speak\n",
    "print(\"Please speak now...\")\n",
    "tester_engine.say(\"Please speak now\")\n",
    "tester_engine.runAndWait()\n",
    "tester_engine.stop()\n",
    "\n",
    "with sr.Microphone() as source:\n",
    "    audio = r.listen(source)\n",
    "    tester_engine.say(\"Input received\")\n",
    "    tester_engine.runAndWait()\n",
    "    tester_engine.stop()\n",
    "print(\"Processing...\")\n",
    "\n",
    "start_time = time.time()\n"
   ]
  },
  {
   "cell_type": "code",
   "execution_count": 61,
   "metadata": {},
   "outputs": [
    {
     "name": "stdout",
     "output_type": "stream",
     "text": [
      "Your text input is  how is tea different from coffee\n"
     ]
    }
   ],
   "source": [
    "try:\n",
    "    # Convert speech to text\n",
    "    text = r.recognize_google(audio)\n",
    "\n",
    "except sr.UnknownValueError:\n",
    "    tester_engine.say(\"Sorry, I was unable to understand\")\n",
    "    tester_engine.runAndWait()\n",
    "    tester_engine.stop() \n",
    "\n",
    "print(\"Your text input is \", text)"
   ]
  },
  {
   "cell_type": "code",
   "execution_count": 62,
   "metadata": {},
   "outputs": [
    {
     "name": "stdout",
     "output_type": "stream",
     "text": [
      "The input prompt is\n",
      "\n",
      "What are the keywords or phrases from the sentence :\n",
      "how is tea different from coffee\n",
      "Output:\n",
      "tea, different, coffee\n"
     ]
    }
   ],
   "source": [
    "phrase_prompt = \"\"\"\n",
    "What are the keywords or phrases from the sentence :\n",
    "\"\"\"+text+\"\\nOutput:\"\n",
    "print(\"The input prompt is\")\n",
    "print(phrase_prompt)\n",
    "\n",
    "response = openai.ChatCompletion.create(\n",
    "  model=GPT_MODEL,\n",
    "  messages=[\n",
    "    {\"role\" : \"system\", \"content\" : \"You are to find upto 3 keywords or keyphrases from a given sentence\"},\n",
    "    {\"role\" : \"system\", \"content\" : \"Restrict yourself to ONLY provide the answer, and nothing else\"},\n",
    "    {\"role\" : \"system\", \"content\" : \"Provide the response as a list of words which are comma separated\"},\n",
    "    {\"role\" : \"user\", \"content\" : phrase_prompt},\n",
    "  ]\n",
    ")\n",
    "\n",
    "keyphrases = response[\"choices\"][0][\"message\"][\"content\"]\n",
    "print(keyphrases)"
   ]
  },
  {
   "cell_type": "code",
   "execution_count": 63,
   "metadata": {},
   "outputs": [
    {
     "name": "stdout",
     "output_type": "stream",
     "text": [
      "['tea', 'different', 'coffee']\n",
      "Tea is a drink that is made from the steeping the leaves of the Camellia sinensis plant\n",
      " Tea can have other herbs, spices, or fruit flavors in it, like lemon\n",
      "Context Below -> \n",
      "Tea\n",
      "Tea is a drink that is made from the steeping the leaves of the Camellia sinensis plant\n",
      " Tea can have other herbs, spices, or fruit flavors in it, like lemon\n",
      "\n",
      "Japanese tea ceremony\n",
      "The Japanese tea ceremony (called cha-no-yu, chado, or sado) is a special way of making green tea (matcha 抹茶)\n",
      "  It is called the Way of Tea\n",
      "\n",
      "Allotropy\n",
      "Allotropy (or allotropism) is when a chemical element can exist in two or more different forms in the same physical state or phase\n",
      " These different forms are called allotropes\n",
      "\n",
      "Coffee\n",
      "Coffee is a plant (Coffea) and the name of the drink that is made from this plant\n",
      " The coffee plant is a bush or tree that can grow up to ten meters (about 32 feet) high, but is usually cut shorter\n",
      "\n",
      "<- Context Above\n"
     ]
    }
   ],
   "source": [
    "# context is essentially a proof of concept rn\n",
    "\n",
    "contents = list()\n",
    "title = list()\n",
    "context = \"Context Below -> \"\n",
    "keywords = keyphrases.split(\",\")\n",
    "keywords = [word.strip() for word in keywords]\n",
    "\n",
    "print(keywords)\n",
    "\n",
    "nearText = {\"concepts\" : text}\n",
    "nearResponse = (\n",
    "    client.query\n",
    "    .get(\"Article\", [\"title\", \"content\"])\n",
    "    .with_near_text(nearText)\n",
    "    .with_limit(1)\n",
    "    .do()\n",
    ")\n",
    "\n",
    "wiki_content = nearResponse['data']['Get']['Article'][0]['content']\n",
    "lines = wiki_content.split('.')\n",
    "\n",
    "wiki_title = nearResponse['data']['Get']['Article'][0]['title']\n",
    "context = context + \"\\n\" + wiki_title + \"\\n\"\n",
    "\n",
    "for line in lines[0:2]:\n",
    "    if line == \"\":\n",
    "        break\n",
    "    context = context + line + \"\\n\"\n",
    "    print(line)\n",
    "\n",
    "for keyword in keywords:\n",
    "    response = (\n",
    "        client.query\n",
    "        .get(\"Article\", [\"title\", \"content\"])\n",
    "        .with_hybrid(keyword, alpha=0.5)  # default 0.75\n",
    "        .with_limit(1)\n",
    "        .do()\n",
    "    )\n",
    "    \n",
    "    if response == nearResponse:\n",
    "        continue\n",
    "\n",
    "    wiki_content = response['data']['Get']['Article'][0]['content']\n",
    "    lines = wiki_content.split('.')\n",
    "    \n",
    "    wiki_title = response['data']['Get']['Article'][0]['title']\n",
    "    context = context + \"\\n\" + wiki_title + \"\\n\"\n",
    "    \n",
    "    for line in lines[0:2]:\n",
    "        if line[0] == \"\\n\":\n",
    "            break\n",
    "        context = context + line + \"\\n\"\n",
    "context = context + \"\\n<- Context Above\"\n",
    "print(context)"
   ]
  },
  {
   "cell_type": "code",
   "execution_count": 70,
   "metadata": {},
   "outputs": [
    {
     "name": "stdout",
     "output_type": "stream",
     "text": [
      "\n",
      "The input prompt is\n",
      "how is tea different from coffee\n",
      "\n",
      "GPT Instructions:\n",
      "\n",
      "You are a personal assistant. Your job is to answer the user queries succintly and in under 100 words.\n",
      "You will be provided some additional info from a database, and have to decide if given info is relevant to the query.\n",
      "If you used the context, start your response with 'Sure!', else start your response with 'Alright'.\n",
      "\n",
      "Context is given as:\n",
      "Context Below -> \n",
      "Tea\n",
      "Tea is a drink that is made from the steeping the leaves of the Camellia sinensis plant\n",
      " Tea can have other herbs, spices, or fruit flavors in it, like lemon\n",
      "\n",
      "Japanese tea ceremony\n",
      "The Japanese tea ceremony (called cha-no-yu, chado, or sado) is a special way of making green tea (matcha 抹茶)\n",
      "  It is called the Way of Tea\n",
      "\n",
      "Allotropy\n",
      "Allotropy (or allotropism) is when a chemical element can exist in two or more different forms in the same physical state or phase\n",
      " These different forms are called allotropes\n",
      "\n",
      "Coffee\n",
      "Coffee is a plant (Coffea) and the name of the drink that is made from this plant\n",
      " The coffee plant is a bush or tree that can grow up to ten meters (about 32 feet) high, but is usually cut shorter\n",
      "\n",
      "<- Context Above\n"
     ]
    }
   ],
   "source": [
    "personality = \"\"\"\n",
    "You are a personal assistant. Your job is to answer the user queries succintly and in under 100 words.\n",
    "You will be provided some additional info from a database, and have to decide if given info is relevant to the query.\n",
    "If you used the context, start your response with 'Sure!', else start your response with 'Alright'.\"\"\"\n",
    "user_prompt = text\n",
    "\n",
    "print(\"\\nThe input prompt is\")\n",
    "print(user_prompt)\n",
    "print(\"\\nGPT Instructions:\")\n",
    "print(personality)\n",
    "print(\"\\nContext is given as:\")\n",
    "print(context)"
   ]
  },
  {
   "cell_type": "code",
   "execution_count": 71,
   "metadata": {},
   "outputs": [],
   "source": [
    "functions = [\n",
    "    {\n",
    "        \"name\": \"get_current_weather\",\n",
    "        \"description\": \"Get the current weather\",\n",
    "        \"parameters\": {\n",
    "            \"type\": \"object\",\n",
    "            \"properties\": {\n",
    "                \"location\": {\n",
    "                    \"type\": \"string\",\n",
    "                    \"description\": \"The city, eg. San Francisco, or Chennai\",\n",
    "                },\n",
    "            },\n",
    "            \"required\": [\"location\"],\n",
    "        },\n",
    "    }]\n",
    "\n",
    "def get_current_weather(location):\n",
    "    # print(\"test\")\n",
    "    # print(location)\n",
    "    # print(format)\n",
    "    api_key = os.environ.get('weather_api_key')\n",
    "    base_url = \"http://api.openweathermap.org/data/2.5/weather?\"\n",
    "    complete_url = base_url + \"appid=\" + api_key + \"&q=\" + location\n",
    "    response = requests.get(complete_url)\n",
    "    x = response.json()\n",
    "    if x[\"cod\"] != \"404\":\n",
    "        y = x[\"main\"]\n",
    "        current_temperature = y[\"temp\"]\n",
    "        z = x['weather']\n",
    "        weather_description = z[0][\"description\"]\n",
    "        return (\"The current temperature is \"+str(round(current_temperature-273.15, 2))+\"Celsius and the weather is \"+str(weather_description))\n",
    "\n",
    "function_exec = {\n",
    "    'get_current_weather' : get_current_weather\n",
    "}"
   ]
  },
  {
   "cell_type": "code",
   "execution_count": 72,
   "metadata": {},
   "outputs": [],
   "source": [
    "query_response = openai.ChatCompletion.create(\n",
    "  model=GPT_MODEL,\n",
    "  messages=[\n",
    "    {\"role\" : \"system\", \"content\" : personality+context},\n",
    "    {\"role\" : \"user\", \"content\" : user_prompt}\n",
    "  ],\n",
    "  functions=functions\n",
    ")"
   ]
  },
  {
   "cell_type": "code",
   "execution_count": 73,
   "metadata": {},
   "outputs": [
    {
     "name": "stdout",
     "output_type": "stream",
     "text": [
      "Tea and coffee are different in terms of their source and preparation\n",
      "Tea is made from the leaves of the Camellia sinensis plant, while coffee is made from the beans of the Coffea plant\n",
      "Tea is typically steeped in hot water, while coffee is brewed by passing hot water through ground coffee beans\n",
      "Additionally, tea contains caffeine but in smaller amounts compared to coffee\n",
      "The taste and aroma of tea and coffee also differ, with tea often having a milder flavor and coffee being bolder and more robust.\n"
     ]
    }
   ],
   "source": [
    "choices = query_response['choices'][0]\n",
    "finish = choices['finish_reason']\n",
    "if finish == 'function_call':\n",
    "  func_params = choices['message']['function_call']\n",
    "  func_name = func_params['name']\n",
    "  func_inputs = json.loads(func_params['arguments'])\n",
    "  answer = function_exec[choices['message']['function_call']['name']](func_inputs.get(\"location\"))\n",
    "  \n",
    "  for sentences in answer.split(\". \"):\n",
    "    print(sentences)\n",
    "    \n",
    "else:\n",
    "  answer = choices['message']['content']\n",
    "  for sentences in answer.split(\". \"):\n",
    "    print(sentences)"
   ]
  },
  {
   "cell_type": "code",
   "execution_count": 68,
   "metadata": {},
   "outputs": [
    {
     "name": "stdout",
     "output_type": "stream",
     "text": [
      "time taken :  42.71615552902222\n"
     ]
    }
   ],
   "source": [
    "tester_engine.say(answer)\n",
    "tester_engine.runAndWait()\n",
    "tester_engine.stop()\n",
    "\n",
    "end_time = time.time()\n",
    "\n",
    "print(\"time taken : \", -start_time + end_time)"
   ]
  },
  {
   "cell_type": "code",
   "execution_count": 69,
   "metadata": {},
   "outputs": [],
   "source": [
    "# ramblings ->\n",
    "\n",
    "# # alright crazy idea\n",
    "# instead of some bigass RAKE up my codebase or doing logn NLTK stuff\n",
    "# what if i just .... \n",
    "# use openAI for keyword extraction?????\n",
    "# god i may be a genius (re: Sarcasm)\n",
    "\n",
    "# shifting model to 3.5 turbo, saves SOO many tokens\n",
    "# also chat completion instead of simple completion\n",
    "# already trained, just need to piepline\n",
    "\n",
    "# docker-compose up -d <- to create\n",
    "# docker-compose start <- to start\n",
    "# docker-compose down <- to remove and exit\n",
    "# docker-compose stop <- to stop\n",
    "\n",
    "# some_objects = client.data_object.get()\n",
    "# # print(json.dumps(some_objects))\n",
    "# print(\"Article title  : \" + some_objects['objects'][0]['properties']['title'])\n",
    "# print(\"Article sample : \" + some_objects['objects'][0]['properties']['content'][0:80])\n",
    "\n",
    "# do i need a 'personality' ??\n",
    "# or is the default fine?\n",
    "# im kinda not making a neuro-mini anymore\n",
    "# just doing my own thing\n",
    "# remind myself -> rethink personality inputs\n",
    "\n",
    "# Run TTS on the text\n",
    "# tts.tts_to_file(reply, file_path='output.wav')\n",
    "# second idea, can i maybe stream RVC through this?\n",
    "# or SOVITS\n",
    "\n"
   ]
  }
 ],
 "metadata": {
  "kernelspec": {
   "display_name": "base",
   "language": "python",
   "name": "python3"
  },
  "language_info": {
   "codemirror_mode": {
    "name": "ipython",
    "version": 3
   },
   "file_extension": ".py",
   "mimetype": "text/x-python",
   "name": "python",
   "nbconvert_exporter": "python",
   "pygments_lexer": "ipython3",
   "version": "3.9.0"
  },
  "orig_nbformat": 4
 },
 "nbformat": 4,
 "nbformat_minor": 2
}
