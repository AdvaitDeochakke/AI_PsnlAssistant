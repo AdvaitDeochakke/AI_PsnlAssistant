{
 "cells": [
  {
   "cell_type": "code",
   "execution_count": 51,
   "metadata": {},
   "outputs": [
    {
     "name": "stdout",
     "output_type": "stream",
     "text": [
      " > tts_models/en/ljspeech/tacotron2-DDC is already downloaded.\n",
      " > vocoder_models/en/ljspeech/hifigan_v2 is already downloaded.\n",
      " > Using model: Tacotron2\n",
      " > Setting up Audio Processor...\n",
      " | > sample_rate:22050\n",
      " | > resample:False\n",
      " | > num_mels:80\n",
      " | > log_func:np.log\n",
      " | > min_level_db:-100\n",
      " | > frame_shift_ms:None\n",
      " | > frame_length_ms:None\n",
      " | > ref_level_db:20\n",
      " | > fft_size:1024\n",
      " | > power:1.5\n",
      " | > preemphasis:0.0\n",
      " | > griffin_lim_iters:60\n",
      " | > signal_norm:False\n",
      " | > symmetric_norm:True\n",
      " | > mel_fmin:0\n",
      " | > mel_fmax:8000.0\n",
      " | > pitch_fmin:1.0\n",
      " | > pitch_fmax:640.0\n",
      " | > spec_gain:1.0\n",
      " | > stft_pad_mode:reflect\n",
      " | > max_norm:4.0\n",
      " | > clip_norm:True\n",
      " | > do_trim_silence:True\n",
      " | > trim_db:60\n",
      " | > do_sound_norm:False\n",
      " | > do_amp_to_db_linear:True\n",
      " | > do_amp_to_db_mel:True\n",
      " | > do_rms_norm:False\n",
      " | > db_level:None\n",
      " | > stats_path:None\n",
      " | > base:2.718281828459045\n",
      " | > hop_length:256\n",
      " | > win_length:1024\n",
      " > Model's reduction rate `r` is set to: 1\n",
      " > Vocoder Model: hifigan\n",
      " > Setting up Audio Processor...\n",
      " | > sample_rate:22050\n",
      " | > resample:False\n",
      " | > num_mels:80\n",
      " | > log_func:np.log\n",
      " | > min_level_db:-100\n",
      " | > frame_shift_ms:None\n",
      " | > frame_length_ms:None\n",
      " | > ref_level_db:20\n",
      " | > fft_size:1024\n",
      " | > power:1.5\n",
      " | > preemphasis:0.0\n",
      " | > griffin_lim_iters:60\n",
      " | > signal_norm:False\n",
      " | > symmetric_norm:True\n",
      " | > mel_fmin:0\n",
      " | > mel_fmax:8000.0\n",
      " | > pitch_fmin:1.0\n",
      " | > pitch_fmax:640.0\n",
      " | > spec_gain:1.0\n",
      " | > stft_pad_mode:reflect\n",
      " | > max_norm:4.0\n",
      " | > clip_norm:True\n",
      " | > do_trim_silence:False\n",
      " | > trim_db:60\n",
      " | > do_sound_norm:False\n",
      " | > do_amp_to_db_linear:True\n",
      " | > do_amp_to_db_mel:True\n",
      " | > do_rms_norm:False\n",
      " | > db_level:None\n",
      " | > stats_path:None\n",
      " | > base:2.718281828459045\n",
      " | > hop_length:256\n",
      " | > win_length:1024\n",
      " > Generator Model: hifigan_generator\n",
      " > Discriminator Model: hifigan_discriminator\n",
      "Removing weight norm...\n",
      "Please speak now...\n"
     ]
    }
   ],
   "source": [
    "from TTS.api import TTS\n",
    "import speech_recognition as sr\n",
    "import os\n",
    "from playsound import playsound\n",
    "import time\n",
    "import openai\n",
    "import weaviate\n",
    "import json\n",
    "\n",
    "os.environ['TF_CPP_MIN_LOG_LEVEL'] = '0'\n",
    "    \n",
    "\n",
    "# List available 🐸TTS models and choose the first one\n",
    "model_name = 'tts_models/en/ljspeech/tacotron2-DDC'\n",
    "# considering switchign to pytts3x\n",
    "\n",
    "# Init TTS\n",
    "tts = TTS(model_name)\n",
    "\n",
    "# Create a recognizer object\n",
    "r = sr.Recognizer()\n",
    "\n",
    "# Prompt the user to speak\n",
    "print(\"Please speak now...\")\n"
   ]
  },
  {
   "cell_type": "code",
   "execution_count": 52,
   "metadata": {},
   "outputs": [],
   "source": [
    "playsound(os.path.join(os.getcwd(), 'please_speak.wav'))\n"
   ]
  },
  {
   "cell_type": "code",
   "execution_count": 53,
   "metadata": {},
   "outputs": [
    {
     "name": "stdout",
     "output_type": "stream",
     "text": [
      "Processing...\n"
     ]
    }
   ],
   "source": [
    "with sr.Microphone() as source:\n",
    "    audio = r.listen(source)\n",
    "print(\"Processing...\")\n"
   ]
  },
  {
   "cell_type": "code",
   "execution_count": 54,
   "metadata": {},
   "outputs": [],
   "source": [
    "start_time = time.time()\n",
    "playsound(os.path.join(os.getcwd(), 'ipt_recv.wav'))"
   ]
  },
  {
   "cell_type": "code",
   "execution_count": 55,
   "metadata": {},
   "outputs": [
    {
     "name": "stdout",
     "output_type": "stream",
     "text": [
      "Your text input is  tell me about generative air hole in entertainment\n"
     ]
    }
   ],
   "source": [
    "try:\n",
    "    # Convert speech to text\n",
    "    text = r.recognize_google(audio)\n",
    "    # text = \"got that promotion at work! 🎉🙌🏼 But at what cost 😔💔\"\n",
    "    #text = \"What does Assorted really mean? I see it in a box of chocolates being represented as a varied collection, but other times I see it as many items of the same quality and such?\"\n",
    "\n",
    "except sr.UnknownValueError:\n",
    "    playsound(os.path.join(os.getcwd(), 'unable_to_understand.wav')) \n",
    "\n",
    "print(\"Your text input is \", text)"
   ]
  },
  {
   "cell_type": "code",
   "execution_count": 56,
   "metadata": {},
   "outputs": [
    {
     "name": "stdout",
     "output_type": "stream",
     "text": [
      "The input prompt is\n",
      "\n",
      "What are the keywords or phrases from the sentence :\n",
      "tell me about generative air hole in entertainment\n",
      "Output:\n"
     ]
    }
   ],
   "source": [
    "# alright crazy idea\n",
    "# instead of some bigass RAKE up my codebase or doing logn NLTK stuff\n",
    "# what if i just .... \n",
    "# use openAI for keyword extraction?????\n",
    "# god i may be a genius (re: Sarcasm)\n",
    "# text = \"Who are the legendary Vampire Counts of the Von Carstein bloodline?\"\n",
    "input_prompt = \"\"\"\n",
    "What are the keywords or phrases from the sentence :\n",
    "\"\"\"+text+\"\\nOutput:\"\n",
    "print(\"The input prompt is\")\n",
    "print(input_prompt)\n",
    "# input_prompt = \"\"\"\n",
    "# Classify tweet as positive, negative, or neutral\n",
    "# (Take into account hidden meaning of emojis, and meme culture context): \n",
    "# \"\"\" + text + \"\\nOutput:\"\n",
    "# print(input_prompt)\n"
   ]
  },
  {
   "cell_type": "code",
   "execution_count": 57,
   "metadata": {},
   "outputs": [],
   "source": [
    "api_key = os.environ.get('OPENAI_APIKEY')\n",
    "openai.api_key = api_key\n",
    "# shifting model to 3.5 turbo, saves SOO many tokens\n",
    "# also chat completion instead of simple completion\n",
    "# already trained, just need to piepline\n",
    "GPT_MODEL = \"gpt-3.5-turbo-0613\""
   ]
  },
  {
   "cell_type": "code",
   "execution_count": 58,
   "metadata": {},
   "outputs": [
    {
     "name": "stdout",
     "output_type": "stream",
     "text": [
      "generative, air hole, entertainment\n"
     ]
    }
   ],
   "source": [
    "response = openai.ChatCompletion.create(\n",
    "  model=GPT_MODEL,\n",
    "  messages=[\n",
    "    {\"role\" : \"system\", \"content\" : \"You are to find upto 3 keywords or keyphrases from a given sentence\"},\n",
    "    {\"role\" : \"system\", \"content\" : \"Restrict yourself to ONLY provide the answer, and nothing else\"},\n",
    "    {\"role\" : \"system\", \"content\" : \"Provide the response as a list of words which are comma separated\"},\n",
    "    {\"role\" : \"user\", \"content\" : input_prompt},\n",
    "  ]\n",
    ")\n",
    "\n",
    "keyphrases = response[\"choices\"][0][\"message\"][\"content\"]\n",
    "print(keyphrases)"
   ]
  },
  {
   "cell_type": "code",
   "execution_count": 59,
   "metadata": {},
   "outputs": [],
   "source": [
    "# dummy for db/context access\n",
    "# split keywords across ,\n",
    "# strip spaces\n",
    "# search context db for keyword\n",
    "# add context (if found) to the input\n"
   ]
  },
  {
   "cell_type": "code",
   "execution_count": 60,
   "metadata": {},
   "outputs": [],
   "source": [
    "weaviate_client_url = \"http://localhost:8080\"\n",
    "\n",
    "# docker-compose up -d <- to create\n",
    "# docker-compose start\n",
    "# docker-compose down <- to remove and exit\n",
    "# docker-compose stop\n",
    "\n",
    "client = weaviate.Client(\n",
    "    url=weaviate_client_url,  # Replace with your endpoint\n",
    "    additional_headers={\n",
    "        \"X-OpenAI-Api-Key\": api_key  # Or \"X-Cohere-Api-Key\" or \"X-HuggingFace-Api-Key\"\n",
    "    }\n",
    ")\n",
    "\n",
    "# some_objects = client.data_object.get()\n",
    "# # print(json.dumps(some_objects))\n",
    "# print(\"Article title  : \" + some_objects['objects'][0]['properties']['title'])\n",
    "# print(\"Article sample : \" + some_objects['objects'][0]['properties']['content'][0:80])"
   ]
  },
  {
   "cell_type": "code",
   "execution_count": 61,
   "metadata": {},
   "outputs": [
    {
     "name": "stdout",
     "output_type": "stream",
     "text": [
      "['generative', 'air hole', 'entertainment']\n",
      "Title : Entertainment Content :\n",
      "Entertainment is something that gives pleasure, or distracts a person from daily life, like a sport or game that excites people and keeps their attention\n",
      " Some entertainment, like horror movies, can also make people feel sad or scared\n",
      "\n",
      "\n",
      "For keyword : generative\n",
      "Title : Phonology \n",
      "Content :\n",
      "Phonology is part of linguistics\n",
      " Linguistics is the scientific study of language\n",
      "\n",
      "\n",
      "For keyword : air hole\n",
      "Title : Hole \n",
      "Content :\n",
      "A hole is an empty space in a solid object, which can be flat\n",
      "\n",
      "\n",
      "For keyword : entertainment\n",
      "Title : DiC \n",
      "Content :\n",
      "DiC Entertainment (DiC) was an international/Canadian-American movie and television production company founded in 1971 as D\n",
      "i\n",
      "\n",
      "\n",
      "Context Below -> \n",
      "Entertainment\n",
      "Entertainment is something that gives pleasure, or distracts a person from daily life, like a sport or game that excites people and keeps their attention\n",
      " Some entertainment, like horror movies, can also make people feel sad or scared\n",
      "\n",
      "Phonology\n",
      "Phonology is part of linguistics\n",
      " Linguistics is the scientific study of language\n",
      "\n",
      "Hole\n",
      "A hole is an empty space in a solid object, which can be flat\n",
      "\n",
      "DiC\n",
      "DiC Entertainment (DiC) was an international/Canadian-American movie and television production company founded in 1971 as D\n",
      "i\n",
      "\n",
      "<- Context Above\n"
     ]
    }
   ],
   "source": [
    "contents = list()\n",
    "title = list()\n",
    "# keywords = [\"Hitler\", \"Xianxia\", \"wallet\"]\n",
    "context = \"Context Below -> \"\n",
    "keywords = keyphrases.split(\",\")\n",
    "keywords = [word.strip() for word in keywords]\n",
    "\n",
    "print(keywords)\n",
    "\n",
    "\n",
    "nearText = {\"concepts\" : text}\n",
    "nearResponse = (\n",
    "    client.query\n",
    "    .get(\"Article\", [\"title\", \"content\"])\n",
    "    .with_near_text(nearText)\n",
    "    .with_limit(1)\n",
    "    .do()\n",
    ")\n",
    "\n",
    "wiki_content = nearResponse['data']['Get']['Article'][0]['content']\n",
    "lines = wiki_content.split('.')\n",
    "\n",
    "wiki_title = nearResponse['data']['Get']['Article'][0]['title']\n",
    "context = context + \"\\n\" + wiki_title + \"\\n\"\n",
    "\n",
    "print(\"Title :\", wiki_title, \"Content :\")\n",
    "for line in lines[0:2]:\n",
    "    if line == \"\":\n",
    "        break\n",
    "    context = context + line + \"\\n\"\n",
    "    print(line)\n",
    "print(\"\\n\")\n",
    "\n",
    "for keyword in keywords:\n",
    "    print(\"For keyword :\", keyword)\n",
    "    response = (\n",
    "        client.query\n",
    "        .get(\"Article\", [\"title\", \"content\"])\n",
    "        .with_hybrid(keyword, alpha=0.5)  # default 0.75\n",
    "        .with_limit(1)\n",
    "        .do()\n",
    "    )\n",
    "    \n",
    "    if response == nearResponse:\n",
    "        continue\n",
    "\n",
    "    wiki_content = response['data']['Get']['Article'][0]['content']\n",
    "    lines = wiki_content.split('.')\n",
    "    \n",
    "    wiki_title = response['data']['Get']['Article'][0]['title']\n",
    "    context = context + \"\\n\" + wiki_title + \"\\n\"\n",
    "    \n",
    "    print(\"Title :\", wiki_title, \"\\nContent :\")\n",
    "    for line in lines[0:2]:\n",
    "        # print(\"len of line is \", len(line))\n",
    "        if line[0] == \"\\n\":\n",
    "            # print(\"entered inside\")\n",
    "            break\n",
    "        context = context + line + \"\\n\"\n",
    "        print(line)\n",
    "    print(\"\\n\")\n",
    "context = context + \"\\n<- Context Above\"\n",
    "print(context)"
   ]
  },
  {
   "cell_type": "code",
   "execution_count": 62,
   "metadata": {},
   "outputs": [],
   "source": [
    "# context = \"\"\"\n",
    "# Vampire\n",
    "# Vampires are monsters in legends and stories\n",
    "#  The first vampire stories were told in Eastern Europe, but much of how modern people see vampires was created by Bram Stoker in the famous novel, Dracula\n",
    "\n",
    "# Vampire bat\n",
    "# Vampire bats is a subfamily of bats\n",
    "#  Unlike other bats, vampire bats feed on blood\n",
    "\n",
    "# Warhammer 40,000\n",
    "# Warhammer 40,000 , also called 40k, is a table-top game and fictional setting made by Games Workshop, in which model armies fight against each other on miniature terrain\n",
    "\n",
    "# Bismarck\n",
    "# Bismarck is a German family name\n",
    "#  Bismark is an incorrect spelling\n",
    "# \"\"\""
   ]
  },
  {
   "cell_type": "code",
   "execution_count": 63,
   "metadata": {},
   "outputs": [
    {
     "name": "stdout",
     "output_type": "stream",
     "text": [
      "\n",
      "The input prompt is\n",
      "tell me about generative air hole in entertainment\n",
      "\n",
      "GPT Instructions:\n",
      "\n",
      "You are a personal assistant. Your job is to answer the user queries.\n",
      "You will be provided some additional info, and have to decide if info is relevant to the query.\n",
      "The user is unaware of the info provided, and do not refer the existence of this info in your answer\n",
      "\n",
      "Context is given as:\n",
      "Context Below -> \n",
      "Entertainment\n",
      "Entertainment is something that gives pleasure, or distracts a person from daily life, like a sport or game that excites people and keeps their attention\n",
      " Some entertainment, like horror movies, can also make people feel sad or scared\n",
      "\n",
      "Phonology\n",
      "Phonology is part of linguistics\n",
      " Linguistics is the scientific study of language\n",
      "\n",
      "Hole\n",
      "A hole is an empty space in a solid object, which can be flat\n",
      "\n",
      "DiC\n",
      "DiC Entertainment (DiC) was an international/Canadian-American movie and television production company founded in 1971 as D\n",
      "i\n",
      "\n",
      "<- Context Above\n"
     ]
    }
   ],
   "source": [
    "# text = \"sample text, Hi Who Are You?\"\n",
    "# context = \"sample context, Himeko from Honkai Impact\"\n",
    "\n",
    "# do i need a 'personality' ??\n",
    "# or is the default fine?\n",
    "# im kinda not making a neuro-mini anymore\n",
    "# just doing my own thing\n",
    "# remind myself -> rethink personality inputs\n",
    "\n",
    "personality = \"\"\"\n",
    "You are a personal assistant. Your job is to answer the user queries.\n",
    "You will be provided some additional info, and have to decide if info is relevant to the query.\n",
    "The user is unaware of the info provided, and do not refer the existence of this info in your answer\"\"\"\n",
    "user_prompt = text\n",
    "\n",
    "print(\"\\nThe input prompt is\")\n",
    "print(user_prompt)\n",
    "print(\"\\nGPT Instructions:\")\n",
    "print(personality)\n",
    "print(\"\\nContext is given as:\")\n",
    "print(context)"
   ]
  },
  {
   "cell_type": "code",
   "execution_count": 64,
   "metadata": {},
   "outputs": [],
   "source": [
    "query_response = openai.ChatCompletion.create(\n",
    "  model=GPT_MODEL,\n",
    "  messages=[\n",
    "    {\"role\" : \"system\", \"content\" : personality+context},\n",
    "    {\"role\" : \"user\", \"content\" : user_prompt}\n",
    "  ]\n",
    ")\n",
    "answer = query_response[\"choices\"][0][\"message\"][\"content\"]"
   ]
  },
  {
   "cell_type": "code",
   "execution_count": 65,
   "metadata": {},
   "outputs": [
    {
     "name": "stdout",
     "output_type": "stream",
     "text": [
      "I'm sorry, but I couldn't find any information about a \"generative air hole\" in the context of entertainment\n",
      "Could you please provide more details or clarify your query?\n"
     ]
    }
   ],
   "source": [
    "for sentences in answer.split(\". \"):\n",
    "    print(sentences)"
   ]
  },
  {
   "cell_type": "code",
   "execution_count": 66,
   "metadata": {},
   "outputs": [],
   "source": [
    "# testing the pytts3x for synthing\n",
    "import pyttsx3\n",
    "tester_engine = pyttsx3.init()\n",
    "tester_engine.setProperty('rate', 175)\n",
    "tester_engine.setProperty('voice', tester_engine.getProperty('voices')[1].id)\n",
    "tester_engine.say(answer)\n",
    "tester_engine.runAndWait()\n",
    "tester_engine.stop()"
   ]
  },
  {
   "cell_type": "code",
   "execution_count": 67,
   "metadata": {},
   "outputs": [],
   "source": [
    "# Run TTS on the text\n",
    "# tts.tts_to_file(reply, file_path='output.wav')\n",
    "# second idea, can i maybe stream RVC through this?\n",
    "# or SOVITS"
   ]
  },
  {
   "cell_type": "code",
   "execution_count": 68,
   "metadata": {},
   "outputs": [
    {
     "name": "stdout",
     "output_type": "stream",
     "text": [
      "time taken :  29.092265605926514\n"
     ]
    }
   ],
   "source": [
    "end_time = time.time()\n",
    "# import playsound\n",
    "# import os\n",
    "# playsound(os.path.join(os.getcwd(), 'output.wav'))\n",
    "\n",
    "print(\"time taken : \", -start_time + end_time)"
   ]
  }
 ],
 "metadata": {
  "kernelspec": {
   "display_name": "base",
   "language": "python",
   "name": "python3"
  },
  "language_info": {
   "codemirror_mode": {
    "name": "ipython",
    "version": 3
   },
   "file_extension": ".py",
   "mimetype": "text/x-python",
   "name": "python",
   "nbconvert_exporter": "python",
   "pygments_lexer": "ipython3",
   "version": "3.9.0"
  },
  "orig_nbformat": 4
 },
 "nbformat": 4,
 "nbformat_minor": 2
}
