{
 "cells": [
  {
   "cell_type": "code",
   "execution_count": 4,
   "metadata": {},
   "outputs": [
    {
     "name": "stdout",
     "output_type": "stream",
     "text": [
      "Created schema\n"
     ]
    }
   ],
   "source": [
    "import weaviate\n",
    "import os\n",
    "import openai\n",
    "\n",
    "api_key = os.environ.get('OPENAI_APIKEY')\n",
    "openai.api_key = api_key\n",
    "weaviate_client_url = \"http://localhost:8080\"\n",
    "\n",
    "client = weaviate.Client(\n",
    "    url=weaviate_client_url,  # Replace with your endpoint\n",
    "    additional_headers={\n",
    "        \"X-OpenAI-Api-Key\": api_key  # Or \"X-Cohere-Api-Key\" or \"X-HuggingFace-Api-Key\"\n",
    "    }\n",
    ")\n",
    "\n",
    "# copy pasted stuff from the weaviate introduction below\n",
    "\n",
    "# client.schema.delete_all()  # ⚠️ uncomment to start from scratch by deleting ALL data\n",
    "\n",
    "# ===== Create Article class for the schema =====\n",
    "article_class = {\n",
    "    \"class\": \"Article\",\n",
    "    \"description\": \"An article from the Simple English Wikipedia data set\",\n",
    "    \"vectorizer\": \"text2vec-openai\",\n",
    "    \"moduleConfig\": {\n",
    "        # Match how OpenAI created the embeddings for the `content` (`text`) field\n",
    "        \"text2vec-openai\": {\n",
    "            \"model\": \"ada\",\n",
    "            \"modelVersion\": \"002\",\n",
    "            \"type\": \"text\",\n",
    "            \"vectorizeClassName\": False\n",
    "        }\n",
    "    },\n",
    "    \"properties\": [\n",
    "        {\n",
    "            \"name\": \"title\",\n",
    "            \"description\": \"The title of the article\",\n",
    "            \"dataType\": [\"text\"],\n",
    "            # Don't vectorize the title\n",
    "            \"moduleConfig\": {\"text2vec-openai\": {\"skip\": True}}\n",
    "        },\n",
    "        {\n",
    "            \"name\": \"content\",\n",
    "            \"description\": \"The content of the article\",\n",
    "            \"dataType\": [\"text\"],\n",
    "        }\n",
    "    ]\n",
    "}\n",
    "\n",
    "# Add the Article class to the schema\n",
    "client.schema.create_class(article_class) #<- already created\n",
    "print('Created schema')"
   ]
  }
 ],
 "metadata": {
  "kernelspec": {
   "display_name": "tts_env",
   "language": "python",
   "name": "python3"
  },
  "language_info": {
   "codemirror_mode": {
    "name": "ipython",
    "version": 3
   },
   "file_extension": ".py",
   "mimetype": "text/x-python",
   "name": "python",
   "nbconvert_exporter": "python",
   "pygments_lexer": "ipython3",
   "version": "3.9.0"
  },
  "orig_nbformat": 4
 },
 "nbformat": 4,
 "nbformat_minor": 2
}
